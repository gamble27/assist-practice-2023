{
 "cells": [
  {
   "cell_type": "code",
   "execution_count": 1,
   "metadata": {
    "collapsed": true
   },
   "outputs": [],
   "source": [
    "import numpy as np\n",
    "import pandas as pd\n",
    "from matplotlib import pyplot as plt\n",
    "from sklearn.model_selection import train_test_split\n",
    "from sklearn.metrics import r2_score\n",
    "\n",
    "import models\n",
    "\n",
    "%matplotlib inline"
   ]
  },
  {
   "cell_type": "markdown",
   "source": [
    "# 1. Лінійна регресія, оцінки МНК\n",
    "\n",
    "## Позначення\n",
    "\n",
    "$Y = X\\beta + \\epsilon$\n",
    "\n",
    "$X$ - регресійна матриця розмірності $N\\times p$\n",
    "\n",
    "$Y$ - відгук\n",
    "\n",
    "$\\epsilon$ - похибка\n",
    "\n",
    "## Припущення моделі:\n",
    "\n",
    "- Х має повний ранг\n",
    "- похибки мають однакову дисперсію\n",
    "- похибки незалежні\n",
    "- похибки мають нормальний розподіл $\\epsilon \\sim N(0,\\sigma^2I$\n",
    "\n"
   ],
   "metadata": {
    "collapsed": false
   }
  },
  {
   "cell_type": "code",
   "execution_count": 2,
   "outputs": [
    {
     "data": {
      "text/plain": "   sepal_length  sepal_width  petal_length  petal_width species\n0           5.1          3.5           1.4          0.2  setosa\n1           4.9          3.0           1.4          0.2  setosa\n2           4.7          3.2           1.3          0.2  setosa\n3           4.6          3.1           1.5          0.2  setosa\n4           5.0          3.6           1.4          0.2  setosa",
      "text/html": "<div>\n<style scoped>\n    .dataframe tbody tr th:only-of-type {\n        vertical-align: middle;\n    }\n\n    .dataframe tbody tr th {\n        vertical-align: top;\n    }\n\n    .dataframe thead th {\n        text-align: right;\n    }\n</style>\n<table border=\"1\" class=\"dataframe\">\n  <thead>\n    <tr style=\"text-align: right;\">\n      <th></th>\n      <th>sepal_length</th>\n      <th>sepal_width</th>\n      <th>petal_length</th>\n      <th>petal_width</th>\n      <th>species</th>\n    </tr>\n  </thead>\n  <tbody>\n    <tr>\n      <th>0</th>\n      <td>5.1</td>\n      <td>3.5</td>\n      <td>1.4</td>\n      <td>0.2</td>\n      <td>setosa</td>\n    </tr>\n    <tr>\n      <th>1</th>\n      <td>4.9</td>\n      <td>3.0</td>\n      <td>1.4</td>\n      <td>0.2</td>\n      <td>setosa</td>\n    </tr>\n    <tr>\n      <th>2</th>\n      <td>4.7</td>\n      <td>3.2</td>\n      <td>1.3</td>\n      <td>0.2</td>\n      <td>setosa</td>\n    </tr>\n    <tr>\n      <th>3</th>\n      <td>4.6</td>\n      <td>3.1</td>\n      <td>1.5</td>\n      <td>0.2</td>\n      <td>setosa</td>\n    </tr>\n    <tr>\n      <th>4</th>\n      <td>5.0</td>\n      <td>3.6</td>\n      <td>1.4</td>\n      <td>0.2</td>\n      <td>setosa</td>\n    </tr>\n  </tbody>\n</table>\n</div>"
     },
     "execution_count": 2,
     "metadata": {},
     "output_type": "execute_result"
    }
   ],
   "source": [
    "iris = pd.read_csv('https://raw.githubusercontent.com/mwaskom/seaborn-data/master/iris.csv')\n",
    "iris.head()"
   ],
   "metadata": {
    "collapsed": false
   }
  },
  {
   "cell_type": "code",
   "execution_count": 3,
   "outputs": [
    {
     "data": {
      "text/plain": "<matplotlib.collections.PathCollection at 0x7f7e6a49c400>"
     },
     "execution_count": 3,
     "metadata": {},
     "output_type": "execute_result"
    },
    {
     "data": {
      "text/plain": "<Figure size 432x288 with 1 Axes>",
      "image/png": "[encoded data removed]"
     },
     "metadata": {
      "needs_background": "light"
     },
     "output_type": "display_data"
    }
   ],
   "source": [
    "setosa = iris[iris.species == 'setosa']\n",
    "plt.scatter(setosa.sepal_width, setosa.sepal_length)"
   ],
   "metadata": {
    "collapsed": false
   }
  },
  {
   "cell_type": "markdown",
   "source": [
    "## Оцінка МНК\n",
    "\n",
    "$ \\hat{\\beta} = (X^{T} X)^{-1} X^TY$\n",
    "\n",
    "## Приклад обчислення оцінки за формулою"
   ],
   "metadata": {
    "collapsed": false
   }
  },
  {
   "cell_type": "code",
   "execution_count": 4,
   "outputs": [],
   "source": [
    "# center the variables\n",
    "x = setosa.sepal_width - setosa.sepal_width.mean()\n",
    "y = setosa.sepal_length - setosa.petal_length.mean()\n",
    "\n",
    "# compute beta\n",
    "beta = models.estim_ls(x, y)"
   ],
   "metadata": {
    "collapsed": false
   }
  },
  {
   "cell_type": "markdown",
   "source": [
    "якщо нас цікавлять нецентровані дані, можна додати до X стовпчик з одиничок"
   ],
   "metadata": {
    "collapsed": false
   }
  },
  {
   "cell_type": "code",
   "execution_count": 5,
   "outputs": [],
   "source": [
    "x = np.array([\n",
    "    setosa.sepal_width,\n",
    "    np.ones(setosa.sepal_width.shape[0])]\n",
    ").T\n",
    "y = np.array(setosa.sepal_length)\n",
    "\n",
    "beta = models.estim_ls(x, y)"
   ],
   "metadata": {
    "collapsed": false
   }
  },
  {
   "cell_type": "code",
   "execution_count": 6,
   "outputs": [
    {
     "data": {
      "text/plain": "[<matplotlib.lines.Line2D at 0x7f7e66109390>]"
     },
     "execution_count": 6,
     "metadata": {},
     "output_type": "execute_result"
    },
    {
     "data": {
      "text/plain": "<Figure size 1152x720 with 1 Axes>",
      "image/png": "[encoded data removed]"
     },
     "metadata": {
      "needs_background": "light"
     },
     "output_type": "display_data"
    }
   ],
   "source": [
    "fig, ax = plt.subplots(figsize=(16,10))\n",
    "ax.scatter(x[:,0], y)\n",
    "ax.plot(x[:,0], x@beta, 'k-', color = 'r')"
   ],
   "metadata": {
    "collapsed": false
   }
  },
  {
   "cell_type": "markdown",
   "source": [
    "# 2. Обчислення ОНК методом градієнтного спуску\n",
    "\n",
    "## Мотивація\n",
    "\n",
    "Велика розмірність часом гальмує операції над матрицями, особливо обчислення оберненої матриці.\n",
    "\n",
    "## Принцип роботи та алгоритм\n",
    "\n",
    "Визначимо функціонал, який ми хочемо мінімізувати за допомогою градієнтного спуску:\n",
    "\n",
    "$J(\\beta) = \\frac{1}{2N}||Y-X\\beta||^2$\n",
    "\n",
    "$N$ - кількість точок в наборі даних (розмірність)\n",
    "\n",
    "В даному випадку функціонал опуклий і має єдину точку мінімуму. Для її знаходження виконують наступні дії:\n",
    "\n",
    "- випадково ініціалізують параметр $\\beta$\n",
    "- роблять крок в сторону зменшення градієнта\n",
    "- повторюють попередню інструкцію поки не буде досягнуто мінімуму або алгоритм не застрягне\n",
    "\n",
    "Крок в сторону зменшення градієнта з learning rate $\\alpha$ виглядатиме так:\n",
    "\n",
    "$\\beta_{n+1} = \\beta_n - \\frac{\\alpha}{N}X^T(X\\beta_n-Y)$\n",
    "\n",
    "## Приклад"
   ],
   "metadata": {
    "collapsed": false
   }
  },
  {
   "cell_type": "code",
   "execution_count": 7,
   "outputs": [],
   "source": [
    "N = 10**5\n",
    "x = np.array([\n",
    "    np.random.normal(0, 1, N),\n",
    "    np.random.normal(-1, 1, N),\n",
    "    np.random.normal(2, 1, N)\n",
    "]).T\n",
    "beta_true = np.array([-2, 4, 8])\n",
    "y = x @ beta_true + np.random.normal(0, 1, N)\n",
    "\n",
    "x_train, x_test, y_train, y_test = train_test_split(\n",
    "    x, y,\n",
    "    test_size=0.1,\n",
    "    random_state=42\n",
    ")"
   ],
   "metadata": {
    "collapsed": false
   }
  },
  {
   "cell_type": "code",
   "execution_count": 8,
   "outputs": [],
   "source": [
    "beta = np.random.normal(0, 1, x.shape[1])\n",
    "#\n",
    "# fig, ax = plt.subplots(figsize=(16,10))\n",
    "# ax.scatter(x_train[:,0], y_train)\n",
    "# ax.plot(x_train[:,0], x_train@beta, 'k-', color = 'r')"
   ],
   "metadata": {
    "collapsed": false
   }
  },
  {
   "cell_type": "code",
   "execution_count": 9,
   "outputs": [],
   "source": [
    "# plt.plot(x_train[:,0])"
   ],
   "metadata": {
    "collapsed": false
   }
  },
  {
   "cell_type": "code",
   "execution_count": 10,
   "outputs": [
    {
     "data": {
      "text/plain": "array([-1.7763978 ,  2.62905299,  7.30994407])"
     },
     "execution_count": 10,
     "metadata": {},
     "output_type": "execute_result"
    }
   ],
   "source": [
    "alpha = 0.1\n",
    "beta_estim = beta\n",
    "for _ in range(15):\n",
    "    beta_estim = models.estim_gd_step(\n",
    "        x_train,\n",
    "        y_train,\n",
    "        alpha,\n",
    "        beta_estim\n",
    "    )\n",
    "beta_estim"
   ],
   "metadata": {
    "collapsed": false
   }
  },
  {
   "cell_type": "code",
   "execution_count": 11,
   "outputs": [
    {
     "data": {
      "text/plain": "array([-1.99861181,  3.99629281,  7.99733036])"
     },
     "execution_count": 11,
     "metadata": {},
     "output_type": "execute_result"
    }
   ],
   "source": [
    "beta_estim_2 = models.estim_gd(\n",
    "    x_train,\n",
    "    y_train,\n",
    "    alpha=0.1,\n",
    "    n=150\n",
    ")\n",
    "beta_estim_2"
   ],
   "metadata": {
    "collapsed": false
   }
  },
  {
   "cell_type": "markdown",
   "source": [
    "# 3. Гребенева регресія (Ridge regression)\n",
    "\n",
    "## Мотивація\n",
    "\n",
    "Згідно з теоремою Гаусса-Маркова, ОНК має мінімальну дисперсію в класі незміщених оцінок. Якщо виникає проблема великої дисперсії оцінки ОНК, то чому б не пошукати оцінку з меншою дисперсією на класі зміщених оцінок?\n",
    "\n",
    "## Принцип роботи\n",
    "\n",
    "Замість мінімізації функціоналу\n",
    "\n",
    "$J(\\beta) = ||Y-X\\beta||^2 \\rightarrow \\min$\n",
    "\n",
    "будемо мінімізовувати функціонал, який дасть в результаті зміщену оцінку за рахунок \"штрафу\" за норму $\\beta$:\n",
    "\n",
    "$J(\\beta) = ||Y-X\\beta||^2 + \\lambda||\\beta||^2 \\rightarrow \\min$\n",
    "\n",
    "## Оцінка рідж регресії\n",
    "\n",
    "$\\hat{\\beta}_{RR} = (X^TX+\\lambda I_p)^{-1}X^TY$\n",
    "\n",
    "$p$ - кількість регресорів"
   ],
   "metadata": {
    "collapsed": false
   }
  },
  {
   "cell_type": "code",
   "execution_count": 12,
   "outputs": [],
   "source": [
    "x = np.array([\n",
    "    setosa.sepal_width,\n",
    "    np.ones(setosa.sepal_width.shape[0])]\n",
    ").T\n",
    "y = np.array(setosa.sepal_length)\n",
    "\n",
    "beta = models.estim_ridge(x, y, 0.1)"
   ],
   "metadata": {
    "collapsed": false
   }
  },
  {
   "cell_type": "code",
   "execution_count": 13,
   "outputs": [
    {
     "data": {
      "text/plain": "[<matplotlib.lines.Line2D at 0x7f7e660c67f0>]"
     },
     "execution_count": 13,
     "metadata": {},
     "output_type": "execute_result"
    },
    {
     "data": {
      "text/plain": "<Figure size 1152x720 with 1 Axes>",
      "image/png": "[encoded data removed]"
     },
     "metadata": {
      "needs_background": "light"
     },
     "output_type": "display_data"
    }
   ],
   "source": [
    "fig, ax = plt.subplots(figsize=(16, 10))\n",
    "ax.scatter(x[:, 0], y)\n",
    "ax.plot(x[:, 0], x @ beta, 'k-', color='r')"
   ],
   "metadata": {
    "collapsed": false
   }
  },
  {
   "cell_type": "markdown",
   "source": [
    "## Порівняємо ОНК і рідж оцінки"
   ],
   "metadata": {
    "collapsed": false
   }
  },
  {
   "cell_type": "code",
   "execution_count": 14,
   "outputs": [
    {
     "data": {
      "text/plain": "<matplotlib.legend.Legend at 0x7f7e660b5b38>"
     },
     "execution_count": 14,
     "metadata": {},
     "output_type": "execute_result"
    },
    {
     "data": {
      "text/plain": "<Figure size 1152x720 with 1 Axes>",
      "image/png": "[encoded data removed]"
     },
     "metadata": {
      "needs_background": "light"
     },
     "output_type": "display_data"
    }
   ],
   "source": [
    "beta_ls = models.estim_ls(x,y)\n",
    "beta_ridge = models.estim_ridge(x, y, 0.1)\n",
    "\n",
    "fig, ax = plt.subplots(figsize=(16, 10))\n",
    "ax.scatter(x[:, 0], y)\n",
    "ax.plot(x[:, 0], x @ beta_ls, 'k-', color='r', label=\"OLS\")\n",
    "ax.plot(x[:, 0], x @ beta_ridge, 'k-', color='g', label=\"RR\")\n",
    "ax.legend()"
   ],
   "metadata": {
    "collapsed": false
   }
  },
  {
   "cell_type": "markdown",
   "source": [
    "# 4. LASSO (Least Absolute Shrinkage & Selection Operator)\n",
    "\n",
    "## Мотивація і принцип роботи\n",
    "\n",
    "У випадку гребеневої регресії розглядався клас зміщених оцінок; ми додавали обмеження на $L_2$-норму параметра $\\beta$:\n",
    "\n",
    "$J(\\beta) = ||Y-X\\beta||^2 + \\lambda||\\beta||^2_2 \\rightarrow \\min$\n",
    "\n",
    "У випадку лассо ми теж вводимо обмеження на норму, але цього разу на $L_1$:\n",
    "\n",
    "$J(\\beta) = ||Y-X\\beta||^2 + \\lambda||\\beta||_1 \\rightarrow \\min$\n",
    "\n",
    "#### Чому ми не працюємо з $L_3$-нормою і більше?\n",
    "\n",
    "Якщо зображувати в просторі частини функціоналу, то $L_2$-норма утворюватиме сферу з допустимих значень параметра $\\beta$, $L_1$-норма - багатовимірні \"ромби\", більші за 2 норми - ромбоїди, з якими незручно працювати, менші за 1 дають негладку задачу.\n",
    "\n",
    "##  Методи обчислення\n",
    "\n",
    "1. Вивести формулу\n",
    "2. Циклічний координатний спуск"
   ],
   "metadata": {
    "collapsed": false
   }
  },
  {
   "cell_type": "code",
   "execution_count": 14,
   "outputs": [],
   "source": [],
   "metadata": {
    "collapsed": false
   }
  },
  {
   "cell_type": "markdown",
   "source": [
    "# 5. Регресія на головні компоненти\n",
    "\n",
    "## Мотивація\n",
    "\n",
    "Метод головних компонент є методом зменшення розмірності даних. В задачах регресії його можна використовувати у випадках коли розмірність даних занадто велика і/або спостерігається мультіколінеарність (порушується умова незалежності регресорів)\n",
    "\n",
    "## Алгоритм\n",
    "\n",
    "- Переходимо в простір головних компонент\n",
    "- Рахуємо ОНК в цьому просторі\n",
    "- Оберненим перетворенням знаходимо значення параметрів для початкових регресорів\n",
    "\n",
    "#### Шпаргалка:\n",
    "\n",
    "Головні компоненти вибірки відповідають напрямам власних векторів вибіркової коваріаційної матриці. Вектори і їх кількість обираємо в порядку спадання модуля відповідного власного числа\n",
    "\n",
    "## Приклад\n",
    "\n"
   ],
   "metadata": {
    "collapsed": false
   }
  },
  {
   "cell_type": "code",
   "execution_count": 15,
   "outputs": [
    {
     "data": {
      "text/plain": "   car_ID  symboling                   CarName fueltype aspiration doornumber  \\\n0       1          3        alfa-romero giulia      gas        std        two   \n1       2          3       alfa-romero stelvio      gas        std        two   \n2       3          1  alfa-romero Quadrifoglio      gas        std        two   \n3       4          2               audi 100 ls      gas        std       four   \n4       5          2                audi 100ls      gas        std       four   \n\n       carbody drivewheel enginelocation  wheelbase  ...  enginesize  \\\n0  convertible        rwd          front       88.6  ...         130   \n1  convertible        rwd          front       88.6  ...         130   \n2    hatchback        rwd          front       94.5  ...         152   \n3        sedan        fwd          front       99.8  ...         109   \n4        sedan        4wd          front       99.4  ...         136   \n\n   fuelsystem  boreratio  stroke compressionratio horsepower  peakrpm citympg  \\\n0        mpfi       3.47    2.68              9.0        111     5000      21   \n1        mpfi       3.47    2.68              9.0        111     5000      21   \n2        mpfi       2.68    3.47              9.0        154     5000      19   \n3        mpfi       3.19    3.40             10.0        102     5500      24   \n4        mpfi       3.19    3.40              8.0        115     5500      18   \n\n   highwaympg    price  \n0          27  13495.0  \n1          27  16500.0  \n2          26  16500.0  \n3          30  13950.0  \n4          22  17450.0  \n\n[5 rows x 26 columns]",
      "text/html": "<div>\n<style scoped>\n    .dataframe tbody tr th:only-of-type {\n        vertical-align: middle;\n    }\n\n    .dataframe tbody tr th {\n        vertical-align: top;\n    }\n\n    .dataframe thead th {\n        text-align: right;\n    }\n</style>\n<table border=\"1\" class=\"dataframe\">\n  <thead>\n    <tr style=\"text-align: right;\">\n      <th></th>\n      <th>car_ID</th>\n      <th>symboling</th>\n      <th>CarName</th>\n      <th>fueltype</th>\n      <th>aspiration</th>\n      <th>doornumber</th>\n      <th>carbody</th>\n      <th>drivewheel</th>\n      <th>enginelocation</th>\n      <th>wheelbase</th>\n      <th>...</th>\n      <th>enginesize</th>\n      <th>fuelsystem</th>\n      <th>boreratio</th>\n      <th>stroke</th>\n      <th>compressionratio</th>\n      <th>horsepower</th>\n      <th>peakrpm</th>\n      <th>citympg</th>\n      <th>highwaympg</th>\n      <th>price</th>\n    </tr>\n  </thead>\n  <tbody>\n    <tr>\n      <th>0</th>\n      <td>1</td>\n      <td>3</td>\n      <td>alfa-romero giulia</td>\n      <td>gas</td>\n      <td>std</td>\n      <td>two</td>\n      <td>convertible</td>\n      <td>rwd</td>\n      <td>front</td>\n      <td>88.6</td>\n      <td>...</td>\n      <td>130</td>\n      <td>mpfi</td>\n      <td>3.47</td>\n      <td>2.68</td>\n      <td>9.0</td>\n      <td>111</td>\n      <td>5000</td>\n      <td>21</td>\n      <td>27</td>\n      <td>13495.0</td>\n    </tr>\n    <tr>\n      <th>1</th>\n      <td>2</td>\n      <td>3</td>\n      <td>alfa-romero stelvio</td>\n      <td>gas</td>\n      <td>std</td>\n      <td>two</td>\n      <td>convertible</td>\n      <td>rwd</td>\n      <td>front</td>\n      <td>88.6</td>\n      <td>...</td>\n      <td>130</td>\n      <td>mpfi</td>\n      <td>3.47</td>\n      <td>2.68</td>\n      <td>9.0</td>\n      <td>111</td>\n      <td>5000</td>\n      <td>21</td>\n      <td>27</td>\n      <td>16500.0</td>\n    </tr>\n    <tr>\n      <th>2</th>\n      <td>3</td>\n      <td>1</td>\n      <td>alfa-romero Quadrifoglio</td>\n      <td>gas</td>\n      <td>std</td>\n      <td>two</td>\n      <td>hatchback</td>\n      <td>rwd</td>\n      <td>front</td>\n      <td>94.5</td>\n      <td>...</td>\n      <td>152</td>\n      <td>mpfi</td>\n      <td>2.68</td>\n      <td>3.47</td>\n      <td>9.0</td>\n      <td>154</td>\n      <td>5000</td>\n      <td>19</td>\n      <td>26</td>\n      <td>16500.0</td>\n    </tr>\n    <tr>\n      <th>3</th>\n      <td>4</td>\n      <td>2</td>\n      <td>audi 100 ls</td>\n      <td>gas</td>\n      <td>std</td>\n      <td>four</td>\n      <td>sedan</td>\n      <td>fwd</td>\n      <td>front</td>\n      <td>99.8</td>\n      <td>...</td>\n      <td>109</td>\n      <td>mpfi</td>\n      <td>3.19</td>\n      <td>3.40</td>\n      <td>10.0</td>\n      <td>102</td>\n      <td>5500</td>\n      <td>24</td>\n      <td>30</td>\n      <td>13950.0</td>\n    </tr>\n    <tr>\n      <th>4</th>\n      <td>5</td>\n      <td>2</td>\n      <td>audi 100ls</td>\n      <td>gas</td>\n      <td>std</td>\n      <td>four</td>\n      <td>sedan</td>\n      <td>4wd</td>\n      <td>front</td>\n      <td>99.4</td>\n      <td>...</td>\n      <td>136</td>\n      <td>mpfi</td>\n      <td>3.19</td>\n      <td>3.40</td>\n      <td>8.0</td>\n      <td>115</td>\n      <td>5500</td>\n      <td>18</td>\n      <td>22</td>\n      <td>17450.0</td>\n    </tr>\n  </tbody>\n</table>\n<p>5 rows × 26 columns</p>\n</div>"
     },
     "execution_count": 15,
     "metadata": {},
     "output_type": "execute_result"
    }
   ],
   "source": [
    "cars = pd.read_csv(\"CarPrice_Assignment.csv\")\n",
    "cars.head()"
   ],
   "metadata": {
    "collapsed": false
   }
  },
  {
   "cell_type": "code",
   "execution_count": 16,
   "outputs": [],
   "source": [
    "y = np.array(cars.price)\n",
    "x = np.array(cars[[\n",
    "    'highwaympg', 'citympg', 'peakrpm', 'horsepower',\n",
    "    'compressionratio', 'boreratio', 'stroke',\n",
    "    'enginesize', 'curbweight', 'carheight',\n",
    "    'carwidth','carlength', 'wheelbase'\n",
    "]])"
   ],
   "metadata": {
    "collapsed": false
   }
  },
  {
   "cell_type": "code",
   "execution_count": 17,
   "outputs": [],
   "source": [
    "x_train, x_test, y_train, y_test = train_test_split(\n",
    "    x, y,\n",
    "    test_size=0.1,\n",
    "    random_state=42\n",
    ")"
   ],
   "metadata": {
    "collapsed": false
   }
  },
  {
   "cell_type": "code",
   "execution_count": 18,
   "outputs": [
    {
     "data": {
      "text/plain": "array([1206.38616931,  429.52045541,  219.34975388,  165.46389358,\n        105.46580604,   78.51011787,   59.8793228 ,   56.59041352,\n         25.26429076,   17.6463455 ,   14.80296616,    9.36706273,\n          3.75340243])"
     },
     "execution_count": 18,
     "metadata": {},
     "output_type": "execute_result"
    }
   ],
   "source": [
    "pca = models.PCA(x_train)\n",
    "pca.get_eigenvalues()"
   ],
   "metadata": {
    "collapsed": false
   }
  },
  {
   "cell_type": "code",
   "execution_count": 19,
   "outputs": [
    {
     "data": {
      "text/plain": "<Figure size 432x288 with 1 Axes>",
      "image/png": "[encoded data removed]"
     },
     "metadata": {
      "needs_background": "light"
     },
     "output_type": "display_data"
    }
   ],
   "source": [
    "pca.plot_eigenvalues()"
   ],
   "metadata": {
    "collapsed": false
   }
  },
  {
   "cell_type": "code",
   "execution_count": 20,
   "outputs": [],
   "source": [
    "pca.transform_data(n_comp=4)\n",
    "x_train_transformed = pca.get_transformed_data()"
   ],
   "metadata": {
    "collapsed": false
   }
  },
  {
   "cell_type": "code",
   "execution_count": 21,
   "outputs": [],
   "source": [
    "beta_ols = models.estim_ls(x_train, y_train)\n",
    "beta_pca = models.estim_ls(x_train_transformed, y_train)"
   ],
   "metadata": {
    "collapsed": false
   }
  },
  {
   "cell_type": "code",
   "execution_count": 22,
   "outputs": [
    {
     "data": {
      "text/plain": "0.8297549784555733"
     },
     "execution_count": 22,
     "metadata": {},
     "output_type": "execute_result"
    }
   ],
   "source": [
    "r2_score(y_train, x_train @ beta_ols)"
   ],
   "metadata": {
    "collapsed": false
   }
  },
  {
   "cell_type": "code",
   "execution_count": 23,
   "outputs": [
    {
     "data": {
      "text/plain": "0.9264510862880835"
     },
     "execution_count": 23,
     "metadata": {},
     "output_type": "execute_result"
    }
   ],
   "source": [
    "r2_score(y_test, x_test @ beta_ols)"
   ],
   "metadata": {
    "collapsed": false
   }
  },
  {
   "cell_type": "code",
   "execution_count": 24,
   "outputs": [
    {
     "data": {
      "text/plain": "0.8395715779958134"
     },
     "execution_count": 24,
     "metadata": {},
     "output_type": "execute_result"
    }
   ],
   "source": [
    "pca.fit_regression(y_train)\n",
    "r2_score(y_train, pca.get_y_hat())"
   ],
   "metadata": {
    "collapsed": false
   }
  },
  {
   "cell_type": "code",
   "execution_count": 24,
   "outputs": [],
   "source": [],
   "metadata": {
    "collapsed": false
   }
  }
 ],
 "metadata": {
  "kernelspec": {
   "name": "pycharm-8300f7de",
   "language": "python",
   "display_name": "PyCharm (CPI)"
  },
  "language_info": {
   "codemirror_mode": {
    "name": "ipython",
    "version": 2
   },
   "file_extension": ".py",
   "mimetype": "text/x-python",
   "name": "python",
   "nbconvert_exporter": "python",
   "pygments_lexer": "ipython2",
   "version": "2.7.6"
  }
 },
 "nbformat": 4,
 "nbformat_minor": 0
}
